{
 "cells": [
  {
   "cell_type": "markdown",
   "metadata": {},
   "source": [
    "# 2001. 파리 퇴치\n",
    "\n",
    "* N x N 배열 안의 숫자는 해당 영역에 존재하는 파리의 수.\n",
    "* M x M 크기의 파리채를 한 번 내리쳐 최대한 많은 파리를 죽이자.\n",
    "* 죽은 파리의 개수?\n",
    "* M = 2 일 경우, 정답은 49마리."
   ]
  },
  {
   "cell_type": "markdown",
   "metadata": {},
   "source": [
    "## 제약 사항\n",
    "\n",
    "1. N 은 5 이상 15 이하이다.\n",
    "\n",
    "2. M은 2 이상 N 이하이다.\n",
    "\n",
    "3. 각 영역의 파리 갯수는 30 이하 이다.\n",
    "\n",
    "\n",
    "# 입력\n",
    "가장 첫 줄에는 테스트 케이스의 개수 T가 주어지고, 그 아래로 각 테스트 케이스가 주어진다.\n",
    "\n",
    "각 테스트 케이스의 첫 번째 줄에 N 과 M 이 주어지고,\n",
    "\n",
    "다음 N 줄에 걸쳐 N x N 배열이 주어진다.\n",
    "\n",
    "\n",
    "# 출력\n",
    "\n",
    "출력의 각 줄은 '#t'로 시작하고, 공백을 한 칸 둔 다음 정답을 출력한다.\n",
    "\n",
    "(t는 테스트 케이스의 번호를 의미하며 1부터 시작한다.)"
   ]
  },
  {
   "cell_type": "markdown",
   "metadata": {},
   "source": [
    "5 2  \n",
    "1 3 3 6 7\n",
    "8 13 9 12 8\n",
    "4 16 11 12 6\n",
    "2 4 1 23 2\n",
    "9 13 4 7 3 "
   ]
  },
  {
   "cell_type": "markdown",
   "metadata": {},
   "source": [
    "# 표준 입력 예제\n",
    "```\n",
    "a = int(input())                        정수형 변수 1개 입력 받는 예제\n",
    "b, c = map(int, input().split())        정수형 변수 2개 입력 받는 예제 \n",
    "d = float(input())                      실수형 변수 1개 입력 받는 예제\n",
    "e, f, g = map(float, input().split())   실수형 변수 3개 입력 받는 예제\n",
    "h = input()                             문자열 변수 1개 입력 받는 예제\n",
    "```\n",
    "\n",
    "# 표준 출력 예제\n",
    "```\n",
    "a, b = 6, 3\n",
    "c, d, e = 1.0, 2.5, 3.4\n",
    "f = \"ABC\"\n",
    "print(a)                                정수형 변수 1개 출력하는 예제\n",
    "print(b, end = \" \")                     줄바꿈 하지 않고 정수형 변수와 공백을 출력하는 예제\n",
    "print(c, d, e)                          실수형 변수 3개 출력하는 예제\n",
    "print(f)                                문자열 1개 출력하는 예제\n",
    "```"
   ]
  },
  {
   "cell_type": "code",
   "execution_count": 10,
   "metadata": {
    "scrolled": false
   },
   "outputs": [
    {
     "name": "stdout",
     "output_type": "stream",
     "text": [
      "1\n",
      "5 2\n",
      "1 3 3 6 7\n",
      "8 13 9 12 8\n",
      "4 16 11 12 6\n",
      "2 4 1 23 2\n",
      "9 13 4 7 3\n",
      "[[1, 3, 3, 6, 7], [8, 13, 9, 12, 8], [4, 16, 11, 12, 6], [2, 4, 1, 23, 2], [9, 13, 4, 7, 3]]\n",
      "#1 49\n"
     ]
    }
   ],
   "source": [
    "cases = int(input())\n",
    "result = 0\n",
    "\n",
    "for case in range(cases):\n",
    "    N, M = map(int, input().split())\n",
    "    field = [list(map(int, input().split())) for _ in range(N)]\n",
    "    \n",
    "    print(field)\n",
    "    \n",
    "    # (i, j) 시작 point 구하기\n",
    "    for i in range(N-M+1):\n",
    "        for j in range(N-M+1):\n",
    "            temp = 0\n",
    "            for k in range(M):\n",
    "                temp += sum(field[i+k][j:j+M])\n",
    "            if temp > result:\n",
    "                result = temp\n",
    "            \n",
    "print(f'#{case+1}', result)"
   ]
  }
 ],
 "metadata": {
  "kernelspec": {
   "display_name": "Python 3",
   "language": "python",
   "name": "python3"
  },
  "language_info": {
   "codemirror_mode": {
    "name": "ipython",
    "version": 3
   },
   "file_extension": ".py",
   "mimetype": "text/x-python",
   "name": "python",
   "nbconvert_exporter": "python",
   "pygments_lexer": "ipython3",
   "version": "3.8.5"
  },
  "toc": {
   "base_numbering": 1,
   "nav_menu": {},
   "number_sections": false,
   "sideBar": true,
   "skip_h1_title": false,
   "title_cell": "Table of Contents",
   "title_sidebar": "Contents",
   "toc_cell": false,
   "toc_position": {},
   "toc_section_display": true,
   "toc_window_display": false
  }
 },
 "nbformat": 4,
 "nbformat_minor": 4
}
