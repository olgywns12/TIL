{
 "cells": [
  {
   "cell_type": "markdown",
   "metadata": {},
   "source": [
    "# 직사각형 네개의 합집합의 면적 구하기\n",
    "\n",
    "## 문제  \n",
    "평면에 네 개의 직사각형이 놓여 있는데 그 밑변은 모두 가로축에 평행하다. 이 네개의 직사각형들은 서로 떨어져 있을 수도 있고, 겹쳐 있을 수도 있고, 하나가 다른 하나를 포함할 수도 있으며 변이나 꼭짓접이 겹칠 수 도 있다.\n",
    "\n",
    "> 이 직사각형들이 차지하는 면적을 구하는 프로그램을 작성하시오.\n",
    "\n",
    "## 입력\n",
    "입력은 네 줄이며, 각 줄은 직사각형의 위치를 나타내는 네 개의 정수로 주어진다. 첫 번째와 두 번째의 정수는 사각형의 왼쪽 아래 꼭짓점의 x좌표, y좌표이고 세 번째와 네 번째의 정수는 사각형의 오른쪽 위 꼭짓점의 x좌표, y좌이다. 모든 (x, y)는 1이상 100이하인 정수이다.\n",
    "\n",
    "```\n",
    "1 2 4 4\n",
    "2 3 5 7\n",
    "3 1 6 5\n",
    "7 3 8 6\n",
    "```\n",
    "\n",
    "## 출력\n",
    "네 개의 직사각형이 차지하는 면적을 출력한다."
   ]
  },
  {
   "cell_type": "code",
   "execution_count": 8,
   "metadata": {
    "scrolled": true
   },
   "outputs": [
    {
     "data": {
      "text/plain": [
       "0"
      ]
     },
     "execution_count": 8,
     "metadata": {},
     "output_type": "execute_result"
    }
   ],
   "source": [
    "# 처음 생각했었던 풀이방식\n",
    "'''\n",
    "전체 area 에서 겹치는 영역의 area를 빼서 면적을 출력한다. \n",
    "'''\n",
    "input_ = [[1, 2, 4, 4], [2, 3, 5, 7], [3, 1, 6, 5], [7, 3, 8, 6]]\n",
    "n = 1\n",
    "\n",
    "def area(x1, y1, x2, y2):\n",
    "    w = x2 - x1\n",
    "    h = y2 - y1\n",
    "    \n",
    "    return w*h\n",
    "\n",
    "def overlapped_area(points):\n",
    "    p1, p2, p3, p4 = points[]\n",
    "        \n",
    "    x1, y1, x2, y2 = p1\n",
    "    x_1, y_1, x_2, y_2 = p2\n",
    "    \n",
    "    new_x1 = (x_1 - x1)\n",
    "    new_y1 = (y_1 - y1)\n",
    "    new_x2 = (x_2 - x2)\n",
    "    new_y2 = (y_1 - y1)\n",
    "    \n",
    "    result = area(new_x1, new_x2, new_y1, new_y2)\n",
    "    \n",
    "    return result\n",
    "\n",
    "overlapped_area((1, 2, 4, 4), (2, 3, 5, 7))"
   ]
  },
  {
   "cell_type": "code",
   "execution_count": 2,
   "metadata": {},
   "outputs": [
    {
     "name": "stdout",
     "output_type": "stream",
     "text": [
      "1 2 4 4\n",
      "2 3 5 7\n",
      "3 1 6 5\n",
      "7 3 8 6\n",
      "26\n"
     ]
    }
   ],
   "source": [
    "# point 초기화\n",
    "point = [[0] * 101 for _ in range(101)]\n",
    "\n",
    "area = 0\n",
    "\n",
    "for _ in range(4):\n",
    "    x1, y1, x2, y2 = map(int, input().split())\n",
    "    for i in range(x1+1, x2+1):\n",
    "        for j in range(y1+1, y2+1):\n",
    "            if not(point[i][j]):\n",
    "                point[i][j] = 1\n",
    "                area += 1\n",
    "\n",
    "print(area)"
   ]
  },
  {
   "cell_type": "code",
   "execution_count": null,
   "metadata": {},
   "outputs": [],
   "source": []
  }
 ],
 "metadata": {
  "kernelspec": {
   "display_name": "Python 3",
   "language": "python",
   "name": "python3"
  },
  "language_info": {
   "codemirror_mode": {
    "name": "ipython",
    "version": 3
   },
   "file_extension": ".py",
   "mimetype": "text/x-python",
   "name": "python",
   "nbconvert_exporter": "python",
   "pygments_lexer": "ipython3",
   "version": "3.8.5"
  },
  "toc": {
   "base_numbering": 1,
   "nav_menu": {},
   "number_sections": false,
   "sideBar": true,
   "skip_h1_title": false,
   "title_cell": "Table of Contents",
   "title_sidebar": "Contents",
   "toc_cell": false,
   "toc_position": {},
   "toc_section_display": true,
   "toc_window_display": false
  }
 },
 "nbformat": 4,
 "nbformat_minor": 4
}
