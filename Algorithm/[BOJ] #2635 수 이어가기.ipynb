{
 "cells": [
  {
   "cell_type": "markdown",
   "metadata": {},
   "source": [
    "# 수 이어가기\n",
    "\n",
    "## 입력\n",
    "`100`\n",
    "## 출력\n",
    "`62 38 24 14 10 4 6`"
   ]
  },
  {
   "cell_type": "code",
   "execution_count": 2,
   "metadata": {},
   "outputs": [
    {
     "name": "stdout",
     "output_type": "stream",
     "text": [
      "100\n",
      "8\n",
      "100 62 38 24 14 10 4 6 "
     ]
    }
   ],
   "source": [
    "# solution #1\n",
    "num = int(input())\n",
    "start_point, max_len = 0, 0\n",
    "temp_list, result_list = [], []\n",
    "\n",
    "# 1부터n까지 모든 경우의 수 순회\n",
    "for i in range(num):\n",
    "    n = num\n",
    "    start_point = i + 1 # 1부터\n",
    "\n",
    "    while True:\n",
    "        if n < 0: break\n",
    "        temp_list.append(n)\n",
    "        temp = n - start_point\n",
    "        n = start_point\n",
    "        start_point = temp\n",
    "\n",
    "    if max_len < len(temp_list):\n",
    "        max_len = len(temp_list)\n",
    "        result_list = temp_list\n",
    "        temp_list = []\n",
    "        n = num\n",
    "    else:\n",
    "        temp_list = []\n",
    "        n = num\n",
    "\n",
    "print(max_len)\n",
    "for num in result_list[:max_len]:\n",
    "    print(num, end=' ')"
   ]
  },
  {
   "cell_type": "markdown",
   "metadata": {},
   "source": [
    "어찌저찌 풀긴했는데.. 코드 가독성도 떨어지고, 제대로 알고리즘을 작성하지 못한거 같다.  \n",
    "정리한번 더 해서 수정하기!"
   ]
  }
 ],
 "metadata": {
  "kernelspec": {
   "display_name": "Python 3",
   "language": "python",
   "name": "python3"
  },
  "language_info": {
   "codemirror_mode": {
    "name": "ipython",
    "version": 3
   },
   "file_extension": ".py",
   "mimetype": "text/x-python",
   "name": "python",
   "nbconvert_exporter": "python",
   "pygments_lexer": "ipython3",
   "version": "3.8.5"
  },
  "toc": {
   "base_numbering": 1,
   "nav_menu": {},
   "number_sections": false,
   "sideBar": true,
   "skip_h1_title": false,
   "title_cell": "Table of Contents",
   "title_sidebar": "Contents",
   "toc_cell": false,
   "toc_position": {
    "height": "calc(100% - 180px)",
    "left": "10px",
    "top": "150px",
    "width": "328px"
   },
   "toc_section_display": true,
   "toc_window_display": false
  }
 },
 "nbformat": 4,
 "nbformat_minor": 4
}
