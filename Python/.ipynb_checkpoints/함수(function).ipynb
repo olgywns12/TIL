{
 "cells": [
  {
   "cell_type": "markdown",
   "metadata": {},
   "source": [
    "# 함수정리\n",
    "* 함수는 어렵다.. 최대한 모든 함수들 한번씩 사용해보자"
   ]
  },
  {
   "cell_type": "code",
   "execution_count": 7,
   "metadata": {
    "scrolled": true
   },
   "outputs": [
    {
     "name": "stdout",
     "output_type": "stream",
     "text": [
      "5\n"
     ]
    },
    {
     "data": {
      "text/plain": [
       "120"
      ]
     },
     "execution_count": 7,
     "metadata": {},
     "output_type": "execute_result"
    }
   ],
   "source": [
    "n = int(input())\n",
    "\n",
    "\n",
    "def factorial(n):\n",
    "\n",
    "    if n == 1:\n",
    "        return 1\n",
    "\n",
    "    return n * factorial(n - 1)\n",
    "\n",
    "\n",
    "factorial(n)"
   ]
  },
  {
   "cell_type": "markdown",
   "metadata": {},
   "source": [
    "```\n",
    "try:\n",
    "    실행할 코드\n",
    "except:\n",
    "    예외가 발생했을 때 처리하는 코드\n",
    "else:\n",
    "    예외가 발생하지 않았을 때 실행할 코드\n",
    "finally:\n",
    "    예외 발생 여부와 상관없이 항상 실행할 코드\n",
    "```"
   ]
  },
  {
   "cell_type": "code",
   "execution_count": 16,
   "metadata": {},
   "outputs": [
    {
     "name": "stdout",
     "output_type": "stream",
     "text": [
      "3.5\n",
      "None\n",
      "False\n"
     ]
    }
   ],
   "source": [
    "def my_func(a):\n",
    "    try:\n",
    "        result = int(a)\n",
    "        return result\n",
    "    except:\n",
    "        return False\n",
    "    finally: #finally가 있으면, 출력을 합니다. \n",
    "        print(print(a))\n",
    "\n",
    "print(my_func('3.5'))\n",
    "        \n",
    "def my_func2(a):\n",
    "    try:\n",
    "        result = int(a)\n",
    "        return result\n",
    "    except:\n",
    "        return False\n",
    "    print(a)\n",
    "\n",
    "# print(my_func2('3.5'))"
   ]
  }
 ],
 "metadata": {
  "kernelspec": {
   "display_name": "Python 3",
   "language": "python",
   "name": "python3"
  },
  "language_info": {
   "codemirror_mode": {
    "name": "ipython",
    "version": 3
   },
   "file_extension": ".py",
   "mimetype": "text/x-python",
   "name": "python",
   "nbconvert_exporter": "python",
   "pygments_lexer": "ipython3",
   "version": "3.8.5"
  },
  "toc": {
   "base_numbering": 1,
   "nav_menu": {},
   "number_sections": false,
   "sideBar": true,
   "skip_h1_title": false,
   "title_cell": "Table of Contents",
   "title_sidebar": "Contents",
   "toc_cell": false,
   "toc_position": {},
   "toc_section_display": true,
   "toc_window_display": true
  }
 },
 "nbformat": 4,
 "nbformat_minor": 4
}
