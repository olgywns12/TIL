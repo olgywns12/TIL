{
 "cells": [
  {
   "cell_type": "markdown",
   "metadata": {},
   "source": [
    "# Python 정리\n",
    "* [python tutorial](https://docs.python.org/ko/3/tutorial/introduction.html)을 참고\n",
    "* 일부분은 스킵하고 넘어갈 수 있음"
   ]
  },
  {
   "cell_type": "markdown",
   "metadata": {},
   "source": [
    "# 파이썬의 간략한 소개\n",
    "## 주석\n",
    "* 파이썬에서 주석은 해시 문자 `#`로 시작\n",
    "* 주석은 코드의 `처음`, `공백`, `뒤`에 등장 할 수 있지만, 문자열 literal 안에는 들어갈 수 없음\n",
    "\n",
    "## 숫자(자료형)\n",
    "* 인터프리터를 통해서 간단한 연산이 가능\n",
    "\n",
    "### 정수(int)\n",
    "* TBA\n",
    "\n",
    "### 실수(float)\n",
    "* TBA\n",
    "\n",
    "### 연산자\n",
    "* `+ - * /`:  사칙연산\n",
    "* `**`: 거듭제곱\n",
    "* `%` : 나머지 연산자, mod\n",
    "\n",
    "## 문자열\n",
    "파이썬은 문자열을 쉽게 다룰 수 있는데, ('...') 이나 (\"...\")을 사용한다. \n",
    "* 둘 다 같은 결과를 가짐\n",
    "* `\\`을 통해 escape을 사용할 수 있음\n",
    "* `\\` 뒤에 나오는 문자가 특수 문자로 취급되지 않게 하기 위하여 따옴표`'`앞에 `r`을 붙여 raw string 형식으로도 작성 가능함\n"
   ]
  },
  {
   "cell_type": "code",
   "execution_count": 38,
   "metadata": {},
   "outputs": [
    {
     "name": "stdout",
     "output_type": "stream",
     "text": [
      "c:\\user\\blah\n"
     ]
    }
   ],
   "source": [
    "print(r'c:\\user\\blah') # 본적없음"
   ]
  },
  {
   "cell_type": "code",
   "execution_count": null,
   "metadata": {},
   "outputs": [],
   "source": []
  },
  {
   "cell_type": "markdown",
   "metadata": {},
   "source": [
    "# 내장 함수\n",
    "* 파이썬 인터프리터에는 많은 함수 및 형(type)이 내장되어 있음\n",
    "* `dir(__builtin__)`을 통해 어떤 내장 함수가 있는지 확인 가능\n",
    "* `help()` 명령어를 통해 `keyword`를 입력하여 특정 내장 함수가 어떤 동작을 하는 지 확인할 수 있음 (처음 알았음...!)\n",
    "* 공식 document에 나와있는대로 한번씩 따라 typing을 진행해보겠음"
   ]
  },
  {
   "cell_type": "markdown",
   "metadata": {},
   "source": [
    "`abs(x)`: 숫자의 절댓값을 리턴. 인자는 정수, 실수 또는 `__abs__()`을 구현하는 객체."
   ]
  },
  {
   "cell_type": "code",
   "execution_count": 8,
   "metadata": {},
   "outputs": [
    {
     "name": "stdout",
     "output_type": "stream",
     "text": [
      "10.1\n"
     ]
    }
   ],
   "source": [
    "print(abs(-10.1))"
   ]
  },
  {
   "cell_type": "markdown",
   "metadata": {},
   "source": [
    "`all(iterable)`: iterable의 모든 요소가 `True`이면 `True`를 return.\n",
    "\n",
    "```{.python}\n",
    "def all(iterable):\n",
    "    for element in iterable:\n",
    "        if not element:\n",
    "            return False\n",
    "    return True\n",
    "```"
   ]
  },
  {
   "cell_type": "code",
   "execution_count": 35,
   "metadata": {},
   "outputs": [
    {
     "name": "stdout",
     "output_type": "stream",
     "text": [
      "False\n",
      "True\n"
     ]
    }
   ],
   "source": [
    "list_1 = [1, False, 3, 4, 5]\n",
    "print(all(list_1))\n",
    "print(any(list_1))"
   ]
  },
  {
   "cell_type": "code",
   "execution_count": null,
   "metadata": {},
   "outputs": [],
   "source": []
  }
 ],
 "metadata": {
  "kernelspec": {
   "display_name": "Python 3",
   "language": "python",
   "name": "python3"
  },
  "language_info": {
   "codemirror_mode": {
    "name": "ipython",
    "version": 3
   },
   "file_extension": ".py",
   "mimetype": "text/x-python",
   "name": "python",
   "nbconvert_exporter": "python",
   "pygments_lexer": "ipython3",
   "version": "3.8.5"
  },
  "toc": {
   "base_numbering": 1,
   "nav_menu": {},
   "number_sections": false,
   "sideBar": true,
   "skip_h1_title": false,
   "title_cell": "Table of Contents",
   "title_sidebar": "Contents",
   "toc_cell": false,
   "toc_position": {},
   "toc_section_display": true,
   "toc_window_display": false
  }
 },
 "nbformat": 4,
 "nbformat_minor": 4
}
