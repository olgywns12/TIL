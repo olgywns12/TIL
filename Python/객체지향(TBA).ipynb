{
 "cells": [
  {
   "cell_type": "code",
   "execution_count": 1,
   "metadata": {},
   "outputs": [],
   "source": [
    "a = 1\n",
    "b = 2"
   ]
  },
  {
   "cell_type": "code",
   "execution_count": 2,
   "metadata": {},
   "outputs": [],
   "source": [
    "# a, b는 객체다.\n",
    "# a, b는 int class의 instance 이다."
   ]
  },
  {
   "cell_type": "code",
   "execution_count": 3,
   "metadata": {},
   "outputs": [
    {
     "data": {
      "text/plain": [
       "'Apple'"
      ]
     },
     "execution_count": 3,
     "metadata": {},
     "output_type": "execute_result"
    }
   ],
   "source": [
    "# 축약형 (객체지향적)\n",
    "'apple'.capitalize()\n",
    "\n",
    "# 여기서 instance는 'apple'"
   ]
  },
  {
   "cell_type": "code",
   "execution_count": 4,
   "metadata": {},
   "outputs": [
    {
     "data": {
      "text/plain": [
       "'Apple'"
      ]
     },
     "execution_count": 4,
     "metadata": {},
     "output_type": "execute_result"
    }
   ],
   "source": [
    "str.capitalize('apple')"
   ]
  },
  {
   "cell_type": "code",
   "execution_count": null,
   "metadata": {},
   "outputs": [],
   "source": []
  },
  {
   "cell_type": "markdown",
   "metadata": {},
   "source": [
    "* 객체의 특수 조작 행위를 지정(함수, 연산자 등)\n",
    "\n",
    "    * `__str__`: 해당 객체의 출력 형태를 지정\n",
    "    * `__gt__` : 부등호 연산자"
   ]
  },
  {
   "cell_type": "code",
   "execution_count": null,
   "metadata": {},
   "outputs": [],
   "source": []
  },
  {
   "cell_type": "code",
   "execution_count": null,
   "metadata": {},
   "outputs": [],
   "source": []
  },
  {
   "cell_type": "code",
   "execution_count": null,
   "metadata": {},
   "outputs": [],
   "source": []
  },
  {
   "cell_type": "code",
   "execution_count": 7,
   "metadata": {},
   "outputs": [],
   "source": [
    "class Cat:\n",
    "    num_tails = 1           # 클래스 변수\n",
    "    \n",
    "    def __init__(self, name):\n",
    "        self.name = name    # 인스턴스 변수\n",
    "        \n"
   ]
  },
  {
   "cell_type": "code",
   "execution_count": 8,
   "metadata": {},
   "outputs": [
    {
     "name": "stdout",
     "output_type": "stream",
     "text": [
      "alice\n",
      "james\n"
     ]
    }
   ],
   "source": [
    "alice = Cat('alice')\n",
    "james = Cat('james')\n",
    "\n",
    "print(alice.name)\n",
    "print(james.name)"
   ]
  },
  {
   "cell_type": "markdown",
   "metadata": {},
   "source": [
    "클래스 변수는 인스턴스, 클래스 둘다 접근 할 수 있다."
   ]
  },
  {
   "cell_type": "code",
   "execution_count": 9,
   "metadata": {
    "scrolled": true
   },
   "outputs": [
    {
     "name": "stdout",
     "output_type": "stream",
     "text": [
      "1\n",
      "1\n"
     ]
    }
   ],
   "source": [
    "print(alice.num_tails)\n",
    "print(james.num_tails) #"
   ]
  },
  {
   "cell_type": "code",
   "execution_count": 10,
   "metadata": {},
   "outputs": [
    {
     "name": "stdout",
     "output_type": "stream",
     "text": [
      "1\n"
     ]
    }
   ],
   "source": [
    "print(Cat.num_tails)"
   ]
  },
  {
   "cell_type": "code",
   "execution_count": 11,
   "metadata": {},
   "outputs": [],
   "source": [
    "james.num_tails = 2"
   ]
  },
  {
   "cell_type": "code",
   "execution_count": 14,
   "metadata": {},
   "outputs": [
    {
     "data": {
      "text/plain": [
       "2"
      ]
     },
     "execution_count": 14,
     "metadata": {},
     "output_type": "execute_result"
    }
   ],
   "source": [
    "james.num_tails"
   ]
  },
  {
   "cell_type": "code",
   "execution_count": null,
   "metadata": {},
   "outputs": [],
   "source": []
  },
  {
   "cell_type": "code",
   "execution_count": null,
   "metadata": {},
   "outputs": [],
   "source": []
  },
  {
   "cell_type": "code",
   "execution_count": 15,
   "metadata": {},
   "outputs": [
    {
     "ename": "NameError",
     "evalue": "name 'MyClass' is not defined",
     "output_type": "error",
     "traceback": [
      "\u001b[1;31m---------------------------------------------------------------------------\u001b[0m",
      "\u001b[1;31mNameError\u001b[0m                                 Traceback (most recent call last)",
      "\u001b[1;32m<ipython-input-15-71be7cd4f2a8>\u001b[0m in \u001b[0;36m<module>\u001b[1;34m\u001b[0m\n\u001b[1;32m----> 1\u001b[1;33m \u001b[0mobj\u001b[0m \u001b[1;33m=\u001b[0m \u001b[0mMyClass\u001b[0m\u001b[1;33m(\u001b[0m\u001b[1;33m)\u001b[0m\u001b[1;33m\u001b[0m\u001b[1;33m\u001b[0m\u001b[0m\n\u001b[0m",
      "\u001b[1;31mNameError\u001b[0m: name 'MyClass' is not defined"
     ]
    }
   ],
   "source": [
    "obj = MyClass()"
   ]
  },
  {
   "cell_type": "markdown",
   "metadata": {},
   "source": [
    "객체지향을 알기 위해서는 절차지향을 알아야 한다.  \n",
    "코드를 쓰면 너무 길다!  \n",
    "객체? 의미있는 덩어리로 묶어서 만들기 시작함. 서로 상호작용 할 수 있도록. 이름이 있는 모든것이 객체이다. 정보, 상태, 데이터, 행동이 있는 모든 존재들을 객체라고 할 수 있다.\n",
    "\n",
    "정보랑 행동으로 표현 할 수 있다?는 객체이다. 현실세계에 있는 어떤 물건이나 물체를 객체라고 할 수 있고, 이를 디지털 세계로 옮기면 instance가 된다.\n",
    "\n",
    "instance를 만들기 위해서는 설계도가 필요 --> 정보는 변수, 행동은 함수이다. 클래스 안에 있는 이름만 바꿔서 메소드라고 부른다. 클래스는 변수랑 함수로 이루어진 설계도 이다. 인스턴스는 실제로 만들어진 결과물 실체.\n",
    "\n",
    "  \n",
    "실제로 일을 하는 존재?는 디지털 세계에서는 instance이다.\n",
    "\n",
    "인스턴스는 --> /정보/행동/ (정의된 행동을 함) 을 통해서 \n",
    "\n",
    "설계도는 code / instance는 메모리에 저장된다. garbage collector --> "
   ]
  },
  {
   "cell_type": "code",
   "execution_count": 16,
   "metadata": {},
   "outputs": [
    {
     "data": {
      "text/plain": [
       "'hi'"
      ]
     },
     "execution_count": 16,
     "metadata": {},
     "output_type": "execute_result"
    }
   ],
   "source": [
    "# 객체는 . 을 쓴다.\n",
    "\n",
    "'hi'.lower()"
   ]
  },
  {
   "cell_type": "code",
   "execution_count": 18,
   "metadata": {},
   "outputs": [],
   "source": [
    "# 함수\n",
    "a = sorted([1,2,3])\n",
    "# 객체에서 sort라는 메소드를 활용\n",
    "b = [3, 2, 1].sort()"
   ]
  },
  {
   "cell_type": "code",
   "execution_count": 22,
   "metadata": {},
   "outputs": [
    {
     "name": "stdout",
     "output_type": "stream",
     "text": [
      "a: [1, 2, 3] b: None\n"
     ]
    }
   ],
   "source": [
    "print('a:', a, 'b:', b)"
   ]
  },
  {
   "cell_type": "markdown",
   "metadata": {},
   "source": [
    "|\n",
    "객체(obj)는 특정 타입(자료형)의 인스턴스(instance) 이다."
   ]
  },
  {
   "cell_type": "markdown",
   "metadata": {},
   "source": [
    "특정 유형을 묶어놓은 설계도. Class\n",
    "\n",
    "타입 <- 유형 <- 설계도 // 비슷한 느낌을 묶어두기 위해서 만든 설계도\n",
    "\n",
    "my_instance = MyClass(재료) ? 재료로 뭘 넣어야할지 정해줘야 한다.\n",
    "\n",
    "`human_class(name='', gender='')` 이런식으로 실체화 된 인스턴스를 생성할 수 있다."
   ]
  },
  {
   "cell_type": "code",
   "execution_count": 34,
   "metadata": {},
   "outputs": [],
   "source": [
    "# 생성자(constructor)\n",
    "\n",
    "# 인스턴스 변수\n",
    "# 인스턴스 객체가 생성될 때 호출되는 메서드 // 초기설정값 세팅이 __init__\n",
    "# --> 인스턴스 변수를 생성한다. \n",
    "\n",
    "# 클래스 변수\n",
    "# --> 모든 사람이 같이 쓴다. ex) is_alive = True 공통적으로 함께 쓰는 내용? 국적?\n",
    "# --> 모두가 공유를 하여 사용하는 경우는 클래스 변수를 지정하여 사용한다. \n",
    "\n",
    "# 인스턴스 변수 --> 인스턴스 매소드 --> self를 처음으로 받아야 하는게 약속이다. \n",
    "\n",
    "# 둘다 관련없이 존재하는 변수는? static method이다. 인스턴스도 아니고 클래스도 아니면...\n",
    "\n",
    "# 큰 구조로 잘라서 oop 를 이해하자. 상속 캡슐화 다형성 solid\n",
    "\n",
    "# self가 들어가있다? instance cls가 들어가있다? 클래스 메소드"
   ]
  },
  {
   "cell_type": "code",
   "execution_count": 29,
   "metadata": {},
   "outputs": [],
   "source": [
    "class Person:\n",
    "    \n",
    "    def __init__(self, name):\n",
    "        self.name = name"
   ]
  },
  {
   "cell_type": "code",
   "execution_count": 33,
   "metadata": {},
   "outputs": [
    {
     "name": "stdout",
     "output_type": "stream",
     "text": [
      "john\n"
     ]
    }
   ],
   "source": [
    "john = Person('john')\n",
    "print(john.name)"
   ]
  },
  {
   "cell_type": "code",
   "execution_count": null,
   "metadata": {},
   "outputs": [],
   "source": [
    "# 데코레이터 -> 함수를 꾸며주는 함수"
   ]
  }
 ],
 "metadata": {
  "kernelspec": {
   "display_name": "Python 3",
   "language": "python",
   "name": "python3"
  },
  "language_info": {
   "codemirror_mode": {
    "name": "ipython",
    "version": 3
   },
   "file_extension": ".py",
   "mimetype": "text/x-python",
   "name": "python",
   "nbconvert_exporter": "python",
   "pygments_lexer": "ipython3",
   "version": "3.8.5"
  },
  "toc": {
   "base_numbering": 1,
   "nav_menu": {},
   "number_sections": true,
   "sideBar": true,
   "skip_h1_title": false,
   "title_cell": "Table of Contents",
   "title_sidebar": "Contents",
   "toc_cell": false,
   "toc_position": {},
   "toc_section_display": true,
   "toc_window_display": false
  }
 },
 "nbformat": 4,
 "nbformat_minor": 4
}
